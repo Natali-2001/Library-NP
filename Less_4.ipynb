{
  "nbformat": 4,
  "nbformat_minor": 0,
  "metadata": {
    "kernelspec": {
      "display_name": "Python 3",
      "language": "python",
      "name": "python3"
    },
    "language_info": {
      "codemirror_mode": {
        "name": "ipython",
        "version": 3
      },
      "file_extension": ".py",
      "mimetype": "text/x-python",
      "name": "python",
      "nbconvert_exporter": "python",
      "pygments_lexer": "ipython3",
      "version": "3.8.5"
    },
    "colab": {
      "name": "Less_4.ipynb",
      "provenance": [],
      "include_colab_link": true
    }
  },
  "cells": [
    {
      "cell_type": "markdown",
      "metadata": {
        "id": "view-in-github",
        "colab_type": "text"
      },
      "source": [
        "<a href=\"https://colab.research.google.com/github/Natali-2001/Library-NP/blob/main/Less_4.ipynb\" target=\"_parent\"><img src=\"https://colab.research.google.com/assets/colab-badge.svg\" alt=\"Open In Colab\"/></a>"
      ]
    },
    {
      "cell_type": "markdown",
      "metadata": {
        "id": "hZvMlfuAyYfO"
      },
      "source": [
        "## 1. Проанализировать скорость и сложность одного любого алгоритма из разработанных в рамках домашнего задания первых трех уроков.\n"
      ]
    },
    {
      "cell_type": "code",
      "metadata": {
        "id": "DLzRCDmFyYfW"
      },
      "source": [
        "# Использовала 3ю задачу 3го урока\n",
        "# В диапазоне натуральных чисел от 2 до n определить, сколько из них кратны каждому из чисел в диапазоне от 2 до 9\n",
        "\n",
        "import cProfile\n",
        "import timeit"
      ],
      "execution_count": null,
      "outputs": []
    },
    {
      "cell_type": "markdown",
      "metadata": {
        "id": "lRd-00nyyYfY"
      },
      "source": [
        "1й вариант"
      ]
    },
    {
      "cell_type": "code",
      "metadata": {
        "id": "BEbRP3PbyYfZ"
      },
      "source": [
        "def multiple_count(n):\n",
        "    summary_dict = dict()\n",
        "\n",
        "    for div in range(2, 10):\n",
        "        summary_dict[div] = 0\n",
        "\n",
        "        for num in range(2, n + 1):\n",
        "\n",
        "            if num % div == 0:\n",
        "                summary_dict[div] += 1\n",
        "\n",
        "    return summary_dict\n",
        "\n",
        "#\"Less_4_task_1.multiple_count(99)\"\n",
        "#100 loops, best of 5: 120 usec per loop\n",
        "\n",
        "#\"Less_4_task_1.multiple_count(999)\"\n",
        "#100 loops, best of 5: 1.3 msec per loop\n",
        "\n",
        "#\"Less_4_task_1.multiple_count(9999)\"\n",
        "#100 loops, best of 5: 14 msec per loop\n",
        "\n",
        "\n",
        "#cProfile.run('multiple_count(99)')\n",
        "\n",
        "  # ncalls  tottime  percall  cumtime  percall filename:lineno(function)\n",
        "  #     1    0.000    0.000    0.000    0.000 <string>:1(<module>)\n",
        "  #      1    0.000    0.000    0.000    0.000 Less_4_task_1.py:8(multiple_count)\n",
        "  #      1    0.061    0.061    0.061    0.061 {built-in method builtins.exec}\n",
        "  #      1    0.000    0.000    0.000    0.000 {method 'disable' of '_lsprof.Profiler' objects}\n",
        "    \n",
        "# Алгоритм работает приблизительно за O(n).\n",
        "# При увеличении количества элементов в 10 раз на каждый запуск, время выполнения увеличивается приблизительно в 10 раз."
      ],
      "execution_count": null,
      "outputs": []
    },
    {
      "cell_type": "markdown",
      "metadata": {
        "id": "FBReqiE5yYfb"
      },
      "source": [
        "2й вариант"
      ]
    },
    {
      "cell_type": "code",
      "metadata": {
        "id": "cI2oxwRVyYfb"
      },
      "source": [
        "def multiple_count1(n):\n",
        "    summary_dict = {}\n",
        "\n",
        "    for i in range(2, 10):\n",
        "        summary_dict[i] = n // i\n",
        "\n",
        "    return summary_dict\n",
        "\n",
        "#\"Less_4_task_1.multiple_count(99)\"\n",
        "# 100 loops, best of 5: 1.94 usec per loop\n",
        "\n",
        "#\"Less_4_task_1.multiple_count(999)\"\n",
        "#100 loops, best of 5: 1.99 usec per loop\n",
        "\n",
        "#\"Less_4_task_1.multiple_count(9999)\"\n",
        "#100 loops, best of 5: 2.11 usec per loop\n",
        "\n",
        "\n",
        "#cProfile.run('multiple_count(99)')\n",
        "\n",
        "  #    ncalls  tottime  percall  cumtime  percall filename:lineno(function)\n",
        "  #      1    0.000    0.000    0.000    0.000 <string>:1(<module>)\n",
        "  #      1    0.000    0.000    0.000    0.000 Less_4_task_1.py:8(multiple_count)\n",
        "  #      1    0.003    0.003    0.003    0.003 {built-in method builtins.exec}\n",
        "  #      1    0.000    0.000    0.000    0.000 {method 'disable' of '_lsprof.Profiler' objects}\n",
        "    \n",
        "# Алгоритм работает приблизительно за O(n).\n",
        "# При увеличении количества элементов в 10 раз на каждый запуск, время выполнения увеличивается незначительно.\n"
      ],
      "execution_count": null,
      "outputs": []
    },
    {
      "cell_type": "markdown",
      "metadata": {
        "id": "xj9aOoTNyYfc"
      },
      "source": [
        "3й вариант"
      ]
    },
    {
      "cell_type": "code",
      "metadata": {
        "id": "Y54bXc-oyYfd"
      },
      "source": [
        "def multiple_count(n):\n",
        "    summary_dict = {2: 0, 3: 0, 4: 0, 5: 0, 6: 0, 7: 0, 8: 0, 9: 0}\n",
        "\n",
        "    for num in range(2, n + 1):\n",
        "\n",
        "        if num % 2 == 0:\n",
        "            summary_dict[2] += 1\n",
        "\n",
        "        if num % 3 == 0:\n",
        "            summary_dict[3] += 1\n",
        "\n",
        "        if num % 4 == 0:\n",
        "            summary_dict[4] += 1\n",
        "\n",
        "        if num % 5 == 0:\n",
        "            summary_dict[5] += 1\n",
        "\n",
        "        if num % 6 == 0:\n",
        "            summary_dict[6] += 1\n",
        "\n",
        "        if num % 7 == 0:\n",
        "            summary_dict[7] += 1\n",
        "\n",
        "        if num % 8 == 0:\n",
        "            summary_dict[8] += 1\n",
        "\n",
        "        if num % 9 == 0:\n",
        "            summary_dict[9] += 1\n",
        "\n",
        "    return summary_dict\n",
        "\n",
        "#\"Less_4_task_1.multiple_count(99)\"\n",
        "# 100 loops, best of 5: 2.11 usec per loop\n",
        "\n",
        "#\"Less_4_task_1.multiple_count(999)\"\n",
        "#100 loops, best of 5: 1.13 msec per loop\n",
        "\n",
        "#\"Less_4_task_1.multiple_count(9999)\"\n",
        "#100 loops, best of 5: 12 msec per loop\n",
        "\n",
        "\n",
        "#cProfile.run('multiple_count(99)')\n",
        "\n",
        "  #  ncalls  tottime  percall  cumtime  percall filename:lineno(function)\n",
        "  #      1    0.000    0.000    0.000    0.000 <string>:1(<module>)\n",
        "  #      1    0.000    0.000    0.000    0.000 Less_4_task_1.py:8(multiple_count)\n",
        "  #      1    0.000    0.000    0.000    0.000 {built-in method builtins.exec}\n",
        "  #      1    0.000    0.000    0.000    0.000 {method 'disable' of '_lsprof.Profiler' objects}\n",
        "    \n",
        "# Алгоритм работает приблизительно за O(n).\n",
        "# При увеличении количества элементов в 10 раз на каждый запуск, время выполнения увеличивается приблизительно в 10 раз.\n"
      ],
      "execution_count": null,
      "outputs": []
    },
    {
      "cell_type": "markdown",
      "metadata": {
        "id": "8R0jTqjoyYff"
      },
      "source": [
        "## ВЫВОД:\n",
        "### Алгоритм, использованный во функции multiple_count1, является самым оптимальным."
      ]
    },
    {
      "cell_type": "markdown",
      "metadata": {
        "id": "sozO76hryYfg"
      },
      "source": [
        " "
      ]
    },
    {
      "cell_type": "markdown",
      "metadata": {
        "id": "RNwtbxCLyYfh"
      },
      "source": [
        "## 2.Написать два алгоритма нахождения i-го по счёту простого числа. Функция нахождения простого числа должна принимать на вход натуральное и возвращать соответствующее простое число. Проанализировать скорость и сложность алгоритмов."
      ]
    },
    {
      "cell_type": "markdown",
      "metadata": {
        "id": "hOnK6RG_yYfi"
      },
      "source": [
        "с испрользованием алгоритма"
      ]
    },
    {
      "cell_type": "code",
      "metadata": {
        "id": "YNHj_MYjyYfi"
      },
      "source": [
        "import cProfile\n",
        "\n",
        "def erathosphen_sieve(n):\n",
        "    sieve = [i for i in range(n)]\n",
        "    sieve[1] = 0\n",
        "\n",
        "    for i in range(2, n):\n",
        "        if sieve[i] != 0:\n",
        "            j = i * 2\n",
        "            while j < n:\n",
        "                sieve[j] = 0\n",
        "                j += i\n",
        "    result = [i for i in sieve if i != 0]\n",
        "    return result\n",
        "\n",
        "\n",
        "# \"Less_4_task_2.erathosphen_sieve(10)\"\n",
        "# 1000 loops, best of 5: 5.92 usec per loop\n",
        "\n",
        "# \"Less_4_task_2.erathosphen_sieve(100)\"\n",
        "# 1000 loops, best of 5: 52.9 usec per loop\n",
        "\n",
        "# \"Less_4_task_2.erathosphen_sieve(1000)\"\n",
        "# 1000 loops, best of 5: 624 usec per loop\n",
        "\n",
        "# cProfile.run('erathosphen_sieve(10000)')\n",
        "# ncalls  tottime  percall  cumtime  percall filename:lineno(function)\n",
        "#        1    0.000    0.000    0.009    0.009 <string>:1(<module>)\n",
        "#        1    0.001    0.001    0.001    0.001 Less_4_task_2.py:14(<listcomp>)\n",
        "#        1    0.007    0.007    0.008    0.008 Less_4_task_2.py:4(erathosphen_sieve)\n",
        "#        1    0.001    0.001    0.001    0.001 Less_4_task_2.py:5(<listcomp>)\n",
        "#        1    0.000    0.000    0.009    0.009 {built-in method builtins.exec}\n",
        "#        1    0.000    0.000    0.000    0.000 {method 'disable' of '_lsprof.Profiler' objects}"
      ],
      "execution_count": null,
      "outputs": []
    },
    {
      "cell_type": "markdown",
      "metadata": {
        "id": "4DFYDfkDyYfk"
      },
      "source": [
        "без использования алгоритма"
      ]
    },
    {
      "cell_type": "code",
      "metadata": {
        "id": "RJSe2T_nyYfk"
      },
      "source": [
        "def prime(n):\n",
        "    lst = [2]\n",
        "    for i in range(3, n+1, 2):\n",
        "        if (i > 10) and (i%10==5):\n",
        "            continue\n",
        "        for j in lst:\n",
        "            if j*j-1 > i:\n",
        "                lst.append(i)\n",
        "                break\n",
        "            if (i % j == 0):\n",
        "                break\n",
        "        else:\n",
        "            lst.append(i)\n",
        "    return lst\n",
        "\n",
        "\n",
        "# \"Less_4_task_2b.prime(10)\"\n",
        "# 100 loops, best of 5: 3.36 usec per loop\n",
        "\n",
        "# \"Less_4_task_2b.prime(100)\"\n",
        "# 100 loops, best of 5: 43.3 usec per loop\n",
        "\n",
        "# \"Less_4_task_2b.prime(1000)\"\n",
        "# 100 loops, best of 5: 691 usec per loop\n",
        "\n",
        "# cProfile.run('prime(10000)')\n",
        "# ncalls  tottime  percall  cumtime  percall filename:lineno(function)\n",
        " #       1    0.000    0.000    0.012    0.012 <string>:1(<module>)\n",
        " #       1    0.011    0.011    0.012    0.012 Less_4_task_2b.py:3(prime)\n",
        " #       1    0.000    0.000    0.012    0.012 {built-in method builtins.exec}\n",
        " #    1228    0.000    0.000    0.000    0.000 {method 'append' of 'list' objects}\n",
        " #       1    0.000    0.000    0.000    0.000 {method 'disable' of '_lsprof.Profiler' objects}"
      ],
      "execution_count": null,
      "outputs": []
    },
    {
      "cell_type": "markdown",
      "metadata": {
        "id": "H2hnixExyYfl"
      },
      "source": [
        "### Обе программы работают практически одинаково. При этом увеличение количества циклов не увеличивает время\n"
      ]
    },
    {
      "cell_type": "code",
      "metadata": {
        "id": "Xp7HoLCvyYfm"
      },
      "source": [
        ""
      ],
      "execution_count": null,
      "outputs": []
    }
  ]
}